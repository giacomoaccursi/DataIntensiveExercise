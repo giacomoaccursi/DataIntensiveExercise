{
  "nbformat": 4,
  "nbformat_minor": 0,
  "metadata": {
    "colab": {
      "name": "Strokes.ipynb",
      "provenance": [],
      "collapsed_sections": [],
      "authorship_tag": "ABX9TyNZDIHKaRIF+jejqvLEAuSH",
      "include_colab_link": true
    },
    "kernelspec": {
      "name": "python3",
      "display_name": "Python 3"
    },
    "language_info": {
      "name": "python"
    }
  },
  "cells": [
    {
      "cell_type": "markdown",
      "metadata": {
        "id": "view-in-github",
        "colab_type": "text"
      },
      "source": [
        "<a href=\"https://colab.research.google.com/github/giacomoaccursi/DataIntensiveExercises/blob/main/Strokes2.ipynb\" target=\"_parent\"><img src=\"https://colab.research.google.com/assets/colab-badge.svg\" alt=\"Open In Colab\"/></a>"
      ]
    },
    {
      "cell_type": "code",
      "metadata": {
        "id": "vtdepR_T5dY0"
      },
      "source": [
        "import pandas as pd\n",
        "import numpy as np\n",
        "import matplotlib.pyplot as plt\n",
        "import os\n",
        "from urllib.request import urlretrieve\n",
        "def download(file, url):\n",
        "    if not os.path.isfile(file):\n",
        "        urlretrieve(url, file)\n"
      ],
      "execution_count": null,
      "outputs": []
    },
    {
      "cell_type": "code",
      "metadata": {
        "id": "kmgPi0aZg2dp"
      },
      "source": [
        "download(\"stroke.csv\", \"https://gist.githubusercontent.com/aishwarya8615/d2107f828d3f904839cbcb7eaa85bd04/raw/cec0340503d82d270821e03254993b6dede60afb/healthcare-dataset-stroke-data.csv\")"
      ],
      "execution_count": null,
      "outputs": []
    },
    {
      "cell_type": "code",
      "metadata": {
        "id": "jpbb500P6nK_"
      },
      "source": [
        "data = pd.read_csv(\"stroke.csv\")"
      ],
      "execution_count": null,
      "outputs": []
    },
    {
      "cell_type": "code",
      "metadata": {
        "colab": {
          "base_uri": "https://localhost:8080/",
          "height": 204
        },
        "id": "nTE_4_i766vD",
        "outputId": "fc093345-188f-4dc4-b505-e41e0b6fdd2c"
      },
      "source": [
        "data.head()"
      ],
      "execution_count": null,
      "outputs": [
        {
          "output_type": "execute_result",
          "data": {
            "text/html": [
              "<div>\n",
              "<style scoped>\n",
              "    .dataframe tbody tr th:only-of-type {\n",
              "        vertical-align: middle;\n",
              "    }\n",
              "\n",
              "    .dataframe tbody tr th {\n",
              "        vertical-align: top;\n",
              "    }\n",
              "\n",
              "    .dataframe thead th {\n",
              "        text-align: right;\n",
              "    }\n",
              "</style>\n",
              "<table border=\"1\" class=\"dataframe\">\n",
              "  <thead>\n",
              "    <tr style=\"text-align: right;\">\n",
              "      <th></th>\n",
              "      <th>id</th>\n",
              "      <th>gender</th>\n",
              "      <th>age</th>\n",
              "      <th>hypertension</th>\n",
              "      <th>heart_disease</th>\n",
              "      <th>ever_married</th>\n",
              "      <th>work_type</th>\n",
              "      <th>Residence_type</th>\n",
              "      <th>avg_glucose_level</th>\n",
              "      <th>bmi</th>\n",
              "      <th>smoking_status</th>\n",
              "      <th>stroke</th>\n",
              "    </tr>\n",
              "  </thead>\n",
              "  <tbody>\n",
              "    <tr>\n",
              "      <th>0</th>\n",
              "      <td>9046</td>\n",
              "      <td>Male</td>\n",
              "      <td>67.0</td>\n",
              "      <td>0</td>\n",
              "      <td>1</td>\n",
              "      <td>Yes</td>\n",
              "      <td>Private</td>\n",
              "      <td>Urban</td>\n",
              "      <td>228.69</td>\n",
              "      <td>36.6</td>\n",
              "      <td>formerly smoked</td>\n",
              "      <td>1</td>\n",
              "    </tr>\n",
              "    <tr>\n",
              "      <th>1</th>\n",
              "      <td>51676</td>\n",
              "      <td>Female</td>\n",
              "      <td>61.0</td>\n",
              "      <td>0</td>\n",
              "      <td>0</td>\n",
              "      <td>Yes</td>\n",
              "      <td>Self-employed</td>\n",
              "      <td>Rural</td>\n",
              "      <td>202.21</td>\n",
              "      <td>NaN</td>\n",
              "      <td>never smoked</td>\n",
              "      <td>1</td>\n",
              "    </tr>\n",
              "    <tr>\n",
              "      <th>2</th>\n",
              "      <td>31112</td>\n",
              "      <td>Male</td>\n",
              "      <td>80.0</td>\n",
              "      <td>0</td>\n",
              "      <td>1</td>\n",
              "      <td>Yes</td>\n",
              "      <td>Private</td>\n",
              "      <td>Rural</td>\n",
              "      <td>105.92</td>\n",
              "      <td>32.5</td>\n",
              "      <td>never smoked</td>\n",
              "      <td>1</td>\n",
              "    </tr>\n",
              "    <tr>\n",
              "      <th>3</th>\n",
              "      <td>60182</td>\n",
              "      <td>Female</td>\n",
              "      <td>49.0</td>\n",
              "      <td>0</td>\n",
              "      <td>0</td>\n",
              "      <td>Yes</td>\n",
              "      <td>Private</td>\n",
              "      <td>Urban</td>\n",
              "      <td>171.23</td>\n",
              "      <td>34.4</td>\n",
              "      <td>smokes</td>\n",
              "      <td>1</td>\n",
              "    </tr>\n",
              "    <tr>\n",
              "      <th>4</th>\n",
              "      <td>1665</td>\n",
              "      <td>Female</td>\n",
              "      <td>79.0</td>\n",
              "      <td>1</td>\n",
              "      <td>0</td>\n",
              "      <td>Yes</td>\n",
              "      <td>Self-employed</td>\n",
              "      <td>Rural</td>\n",
              "      <td>174.12</td>\n",
              "      <td>24.0</td>\n",
              "      <td>never smoked</td>\n",
              "      <td>1</td>\n",
              "    </tr>\n",
              "  </tbody>\n",
              "</table>\n",
              "</div>"
            ],
            "text/plain": [
              "      id  gender   age  ...   bmi   smoking_status stroke\n",
              "0   9046    Male  67.0  ...  36.6  formerly smoked      1\n",
              "1  51676  Female  61.0  ...   NaN     never smoked      1\n",
              "2  31112    Male  80.0  ...  32.5     never smoked      1\n",
              "3  60182  Female  49.0  ...  34.4           smokes      1\n",
              "4   1665  Female  79.0  ...  24.0     never smoked      1\n",
              "\n",
              "[5 rows x 12 columns]"
            ]
          },
          "metadata": {
            "tags": []
          },
          "execution_count": 5
        }
      ]
    },
    {
      "cell_type": "code",
      "metadata": {
        "colab": {
          "base_uri": "https://localhost:8080/"
        },
        "id": "96CCtuNX6-G-",
        "outputId": "45442eeb-e14b-45b3-f555-e5bc146f14fa"
      },
      "source": [
        "data.info()"
      ],
      "execution_count": null,
      "outputs": [
        {
          "output_type": "stream",
          "text": [
            "<class 'pandas.core.frame.DataFrame'>\n",
            "RangeIndex: 5110 entries, 0 to 5109\n",
            "Data columns (total 12 columns):\n",
            " #   Column             Non-Null Count  Dtype  \n",
            "---  ------             --------------  -----  \n",
            " 0   id                 5110 non-null   int64  \n",
            " 1   gender             5110 non-null   object \n",
            " 2   age                5110 non-null   float64\n",
            " 3   hypertension       5110 non-null   int64  \n",
            " 4   heart_disease      5110 non-null   int64  \n",
            " 5   ever_married       5110 non-null   object \n",
            " 6   work_type          5110 non-null   object \n",
            " 7   Residence_type     5110 non-null   object \n",
            " 8   avg_glucose_level  5110 non-null   float64\n",
            " 9   bmi                4909 non-null   float64\n",
            " 10  smoking_status     5110 non-null   object \n",
            " 11  stroke             5110 non-null   int64  \n",
            "dtypes: float64(3), int64(4), object(5)\n",
            "memory usage: 479.2+ KB\n"
          ],
          "name": "stdout"
        }
      ]
    },
    {
      "cell_type": "code",
      "metadata": {
        "colab": {
          "base_uri": "https://localhost:8080/"
        },
        "id": "XmsfPfvi7A5k",
        "outputId": "ac30a484-5515-4202-c10f-f4ca814b1cdd"
      },
      "source": [
        "data[\"stroke\"].value_counts()"
      ],
      "execution_count": null,
      "outputs": [
        {
          "output_type": "execute_result",
          "data": {
            "text/plain": [
              "0    4861\n",
              "1     249\n",
              "Name: stroke, dtype: int64"
            ]
          },
          "metadata": {
            "tags": []
          },
          "execution_count": 7
        }
      ]
    },
    {
      "cell_type": "code",
      "metadata": {
        "colab": {
          "base_uri": "https://localhost:8080/"
        },
        "id": "B56DJUzi7xoe",
        "outputId": "2ee374b1-9be8-4b53-81aa-31ebff605bce"
      },
      "source": [
        "data[\"stroke\"].mean()"
      ],
      "execution_count": null,
      "outputs": [
        {
          "output_type": "execute_result",
          "data": {
            "text/plain": [
              "0.0487279843444227"
            ]
          },
          "metadata": {
            "tags": []
          },
          "execution_count": 8
        }
      ]
    },
    {
      "cell_type": "code",
      "metadata": {
        "colab": {
          "base_uri": "https://localhost:8080/",
          "height": 297
        },
        "id": "CAhPbVQC7RBL",
        "outputId": "46e6545e-9a74-49f0-da11-cddcf94f043c"
      },
      "source": [
        "data.describe()"
      ],
      "execution_count": null,
      "outputs": [
        {
          "output_type": "execute_result",
          "data": {
            "text/html": [
              "<div>\n",
              "<style scoped>\n",
              "    .dataframe tbody tr th:only-of-type {\n",
              "        vertical-align: middle;\n",
              "    }\n",
              "\n",
              "    .dataframe tbody tr th {\n",
              "        vertical-align: top;\n",
              "    }\n",
              "\n",
              "    .dataframe thead th {\n",
              "        text-align: right;\n",
              "    }\n",
              "</style>\n",
              "<table border=\"1\" class=\"dataframe\">\n",
              "  <thead>\n",
              "    <tr style=\"text-align: right;\">\n",
              "      <th></th>\n",
              "      <th>id</th>\n",
              "      <th>age</th>\n",
              "      <th>hypertension</th>\n",
              "      <th>heart_disease</th>\n",
              "      <th>avg_glucose_level</th>\n",
              "      <th>bmi</th>\n",
              "      <th>stroke</th>\n",
              "    </tr>\n",
              "  </thead>\n",
              "  <tbody>\n",
              "    <tr>\n",
              "      <th>count</th>\n",
              "      <td>5110.000000</td>\n",
              "      <td>5110.000000</td>\n",
              "      <td>5110.000000</td>\n",
              "      <td>5110.000000</td>\n",
              "      <td>5110.000000</td>\n",
              "      <td>4909.000000</td>\n",
              "      <td>5110.000000</td>\n",
              "    </tr>\n",
              "    <tr>\n",
              "      <th>mean</th>\n",
              "      <td>36517.829354</td>\n",
              "      <td>43.226614</td>\n",
              "      <td>0.097456</td>\n",
              "      <td>0.054012</td>\n",
              "      <td>106.147677</td>\n",
              "      <td>28.893237</td>\n",
              "      <td>0.048728</td>\n",
              "    </tr>\n",
              "    <tr>\n",
              "      <th>std</th>\n",
              "      <td>21161.721625</td>\n",
              "      <td>22.612647</td>\n",
              "      <td>0.296607</td>\n",
              "      <td>0.226063</td>\n",
              "      <td>45.283560</td>\n",
              "      <td>7.854067</td>\n",
              "      <td>0.215320</td>\n",
              "    </tr>\n",
              "    <tr>\n",
              "      <th>min</th>\n",
              "      <td>67.000000</td>\n",
              "      <td>0.080000</td>\n",
              "      <td>0.000000</td>\n",
              "      <td>0.000000</td>\n",
              "      <td>55.120000</td>\n",
              "      <td>10.300000</td>\n",
              "      <td>0.000000</td>\n",
              "    </tr>\n",
              "    <tr>\n",
              "      <th>25%</th>\n",
              "      <td>17741.250000</td>\n",
              "      <td>25.000000</td>\n",
              "      <td>0.000000</td>\n",
              "      <td>0.000000</td>\n",
              "      <td>77.245000</td>\n",
              "      <td>23.500000</td>\n",
              "      <td>0.000000</td>\n",
              "    </tr>\n",
              "    <tr>\n",
              "      <th>50%</th>\n",
              "      <td>36932.000000</td>\n",
              "      <td>45.000000</td>\n",
              "      <td>0.000000</td>\n",
              "      <td>0.000000</td>\n",
              "      <td>91.885000</td>\n",
              "      <td>28.100000</td>\n",
              "      <td>0.000000</td>\n",
              "    </tr>\n",
              "    <tr>\n",
              "      <th>75%</th>\n",
              "      <td>54682.000000</td>\n",
              "      <td>61.000000</td>\n",
              "      <td>0.000000</td>\n",
              "      <td>0.000000</td>\n",
              "      <td>114.090000</td>\n",
              "      <td>33.100000</td>\n",
              "      <td>0.000000</td>\n",
              "    </tr>\n",
              "    <tr>\n",
              "      <th>max</th>\n",
              "      <td>72940.000000</td>\n",
              "      <td>82.000000</td>\n",
              "      <td>1.000000</td>\n",
              "      <td>1.000000</td>\n",
              "      <td>271.740000</td>\n",
              "      <td>97.600000</td>\n",
              "      <td>1.000000</td>\n",
              "    </tr>\n",
              "  </tbody>\n",
              "</table>\n",
              "</div>"
            ],
            "text/plain": [
              "                 id          age  ...          bmi       stroke\n",
              "count   5110.000000  5110.000000  ...  4909.000000  5110.000000\n",
              "mean   36517.829354    43.226614  ...    28.893237     0.048728\n",
              "std    21161.721625    22.612647  ...     7.854067     0.215320\n",
              "min       67.000000     0.080000  ...    10.300000     0.000000\n",
              "25%    17741.250000    25.000000  ...    23.500000     0.000000\n",
              "50%    36932.000000    45.000000  ...    28.100000     0.000000\n",
              "75%    54682.000000    61.000000  ...    33.100000     0.000000\n",
              "max    72940.000000    82.000000  ...    97.600000     1.000000\n",
              "\n",
              "[8 rows x 7 columns]"
            ]
          },
          "metadata": {
            "tags": []
          },
          "execution_count": 9
        }
      ]
    },
    {
      "cell_type": "code",
      "metadata": {
        "colab": {
          "base_uri": "https://localhost:8080/",
          "height": 283
        },
        "id": "oznRfAiRAEhp",
        "outputId": "86cd7db5-8f87-4921-f439-65bf8b16a9bb"
      },
      "source": [
        "data[\"age\"].hist()"
      ],
      "execution_count": null,
      "outputs": [
        {
          "output_type": "execute_result",
          "data": {
            "text/plain": [
              "<matplotlib.axes._subplots.AxesSubplot at 0x7fc30130ddd0>"
            ]
          },
          "metadata": {
            "tags": []
          },
          "execution_count": 10
        },
        {
          "output_type": "display_data",
          "data": {
            "image/png": "[encoded data removed]",
            "text/plain": [
              "<Figure size 432x288 with 1 Axes>"
            ]
          },
          "metadata": {
            "tags": [],
            "needs_background": "light"
          }
        }
      ]
    },
    {
      "cell_type": "code",
      "metadata": {
        "colab": {
          "base_uri": "https://localhost:8080/",
          "height": 283
        },
        "id": "ts3H5Pgv7UHd",
        "outputId": "e6c10eff-61fe-407b-b534-dfccb6cfeefe"
      },
      "source": [
        "data[data[\"stroke\"] == 1][\"age\"].plot.hist()"
      ],
      "execution_count": null,
      "outputs": [
        {
          "output_type": "execute_result",
          "data": {
            "text/plain": [
              "<matplotlib.axes._subplots.AxesSubplot at 0x7fc300b2a610>"
            ]
          },
          "metadata": {
            "tags": []
          },
          "execution_count": 11
        },
        {
          "output_type": "display_data",
          "data": {
            "image/png": "[encoded data removed]",
            "text/plain": [
              "<Figure size 432x288 with 1 Axes>"
            ]
          },
          "metadata": {
            "tags": [],
            "needs_background": "light"
          }
        }
      ]
    },
    {
      "cell_type": "code",
      "metadata": {
        "colab": {
          "base_uri": "https://localhost:8080/",
          "height": 284
        },
        "id": "2OCR6C4E8D09",
        "outputId": "0255887c-6c5b-4744-f076-5ad466e931fe"
      },
      "source": [
        "data[data[\"stroke\"] == 1][\"work_type\"].hist()"
      ],
      "execution_count": null,
      "outputs": [
        {
          "output_type": "execute_result",
          "data": {
            "text/plain": [
              "<matplotlib.axes._subplots.AxesSubplot at 0x7fc300abea10>"
            ]
          },
          "metadata": {
            "tags": []
          },
          "execution_count": 12
        },
        {
          "output_type": "display_data",
          "data": {
            "image/png": "[encoded data removed]",
            "text/plain": [
              "<Figure size 432x288 with 1 Axes>"
            ]
          },
          "metadata": {
            "tags": [],
            "needs_background": "light"
          }
        }
      ]
    },
    {
      "cell_type": "code",
      "metadata": {
        "colab": {
          "base_uri": "https://localhost:8080/",
          "height": 283
        },
        "id": "ommgpBln82R7",
        "outputId": "43e0db6d-86ed-4ae2-9b2a-76a65df0039b"
      },
      "source": [
        "data[data[\"stroke\"] == 1][\"smoking_status\"].hist()"
      ],
      "execution_count": null,
      "outputs": [
        {
          "output_type": "execute_result",
          "data": {
            "text/plain": [
              "<matplotlib.axes._subplots.AxesSubplot at 0x7fc300a9a290>"
            ]
          },
          "metadata": {
            "tags": []
          },
          "execution_count": 13
        },
        {
          "output_type": "display_data",
          "data": {
            "image/png": "[encoded data removed]",
            "text/plain": [
              "<Figure size 432x288 with 1 Axes>"
            ]
          },
          "metadata": {
            "tags": [],
            "needs_background": "light"
          }
        }
      ]
    },
    {
      "cell_type": "code",
      "metadata": {
        "colab": {
          "base_uri": "https://localhost:8080/",
          "height": 427
        },
        "id": "rtI-8rim_8JS",
        "outputId": "dcb7b0a9-13c7-48f8-970d-d097f646f3d0"
      },
      "source": [
        "fig, axes = plt.subplots(nrows=1, ncols=2, figsize=(15, 5), sharey=True)\n",
        "((data[data[\"age\"] < 60].groupby(\"smoking_status\")[\"stroke\"].mean())*100).plot.bar(ax=axes[0])\n",
        "((data[data[\"age\"] >= 60].groupby(\"smoking_status\")[\"stroke\"].mean())*100).plot.bar(ax=axes[1])"
      ],
      "execution_count": null,
      "outputs": [
        {
          "output_type": "execute_result",
          "data": {
            "text/plain": [
              "<matplotlib.axes._subplots.AxesSubplot at 0x7fc3009985d0>"
            ]
          },
          "metadata": {
            "tags": []
          },
          "execution_count": 14
        },
        {
          "output_type": "display_data",
          "data": {
            "image/png": "[encoded data removed]",
            "text/plain": [
              "<Figure size 1080x360 with 2 Axes>"
            ]
          },
          "metadata": {
            "tags": [],
            "needs_background": "light"
          }
        }
      ]
    },
    {
      "cell_type": "code",
      "metadata": {
        "colab": {
          "base_uri": "https://localhost:8080/",
          "height": 338
        },
        "id": "FEAoNyo1D0vB",
        "outputId": "4cdf40aa-7f22-4e58-b79a-f18080c0cb3c"
      },
      "source": [
        "fig, axes = plt.subplots(nrows=1, ncols=2, figsize=(15, 5))\n",
        "\n",
        "data[data[\"stroke\"] == 1][\"avg_glucose_level\"].hist(ax=axes[0])\n",
        "data[data[\"stroke\"] == 0][\"avg_glucose_level\"].hist(ax=axes[1])"
      ],
      "execution_count": null,
      "outputs": [
        {
          "output_type": "execute_result",
          "data": {
            "text/plain": [
              "<matplotlib.axes._subplots.AxesSubplot at 0x7fc300885210>"
            ]
          },
          "metadata": {
            "tags": []
          },
          "execution_count": 15
        },
        {
          "output_type": "display_data",
          "data": {
            "image/png": "[encoded data removed]",
            "text/plain": [
              "<Figure size 1080x360 with 2 Axes>"
            ]
          },
          "metadata": {
            "tags": [],
            "needs_background": "light"
          }
        }
      ]
    },
    {
      "cell_type": "code",
      "metadata": {
        "colab": {
          "base_uri": "https://localhost:8080/",
          "height": 295
        },
        "id": "dycLpUwFJWdk",
        "outputId": "0e158865-acee-4d9c-c871-2cabcc132b83"
      },
      "source": [
        "data.groupby(\"heart_disease\")[\"stroke\"].mean().plot.bar()"
      ],
      "execution_count": null,
      "outputs": [
        {
          "output_type": "execute_result",
          "data": {
            "text/plain": [
              "<matplotlib.axes._subplots.AxesSubplot at 0x7fc3008b8bd0>"
            ]
          },
          "metadata": {
            "tags": []
          },
          "execution_count": 16
        },
        {
          "output_type": "display_data",
          "data": {
            "image/png": "[encoded data removed]",
            "text/plain": [
              "<Figure size 432x288 with 1 Axes>"
            ]
          },
          "metadata": {
            "tags": [],
            "needs_background": "light"
          }
        }
      ]
    },
    {
      "cell_type": "markdown",
      "metadata": {
        "id": "d-2AMpSiMqVH"
      },
      "source": [
        "## Data Processing"
      ]
    },
    {
      "cell_type": "code",
      "metadata": {
        "colab": {
          "base_uri": "https://localhost:8080/",
          "height": 204
        },
        "id": "Qtc12MIS1Esl",
        "outputId": "ba0fd4ec-2d6b-445e-920e-de153db5e2a9"
      },
      "source": [
        "data.head()"
      ],
      "execution_count": null,
      "outputs": [
        {
          "output_type": "execute_result",
          "data": {
            "text/html": [
              "<div>\n",
              "<style scoped>\n",
              "    .dataframe tbody tr th:only-of-type {\n",
              "        vertical-align: middle;\n",
              "    }\n",
              "\n",
              "    .dataframe tbody tr th {\n",
              "        vertical-align: top;\n",
              "    }\n",
              "\n",
              "    .dataframe thead th {\n",
              "        text-align: right;\n",
              "    }\n",
              "</style>\n",
              "<table border=\"1\" class=\"dataframe\">\n",
              "  <thead>\n",
              "    <tr style=\"text-align: right;\">\n",
              "      <th></th>\n",
              "      <th>id</th>\n",
              "      <th>gender</th>\n",
              "      <th>age</th>\n",
              "      <th>hypertension</th>\n",
              "      <th>heart_disease</th>\n",
              "      <th>ever_married</th>\n",
              "      <th>work_type</th>\n",
              "      <th>Residence_type</th>\n",
              "      <th>avg_glucose_level</th>\n",
              "      <th>bmi</th>\n",
              "      <th>smoking_status</th>\n",
              "      <th>stroke</th>\n",
              "    </tr>\n",
              "  </thead>\n",
              "  <tbody>\n",
              "    <tr>\n",
              "      <th>0</th>\n",
              "      <td>9046</td>\n",
              "      <td>Male</td>\n",
              "      <td>67.0</td>\n",
              "      <td>0</td>\n",
              "      <td>1</td>\n",
              "      <td>Yes</td>\n",
              "      <td>Private</td>\n",
              "      <td>Urban</td>\n",
              "      <td>228.69</td>\n",
              "      <td>36.6</td>\n",
              "      <td>formerly smoked</td>\n",
              "      <td>1</td>\n",
              "    </tr>\n",
              "    <tr>\n",
              "      <th>1</th>\n",
              "      <td>51676</td>\n",
              "      <td>Female</td>\n",
              "      <td>61.0</td>\n",
              "      <td>0</td>\n",
              "      <td>0</td>\n",
              "      <td>Yes</td>\n",
              "      <td>Self-employed</td>\n",
              "      <td>Rural</td>\n",
              "      <td>202.21</td>\n",
              "      <td>NaN</td>\n",
              "      <td>never smoked</td>\n",
              "      <td>1</td>\n",
              "    </tr>\n",
              "    <tr>\n",
              "      <th>2</th>\n",
              "      <td>31112</td>\n",
              "      <td>Male</td>\n",
              "      <td>80.0</td>\n",
              "      <td>0</td>\n",
              "      <td>1</td>\n",
              "      <td>Yes</td>\n",
              "      <td>Private</td>\n",
              "      <td>Rural</td>\n",
              "      <td>105.92</td>\n",
              "      <td>32.5</td>\n",
              "      <td>never smoked</td>\n",
              "      <td>1</td>\n",
              "    </tr>\n",
              "    <tr>\n",
              "      <th>3</th>\n",
              "      <td>60182</td>\n",
              "      <td>Female</td>\n",
              "      <td>49.0</td>\n",
              "      <td>0</td>\n",
              "      <td>0</td>\n",
              "      <td>Yes</td>\n",
              "      <td>Private</td>\n",
              "      <td>Urban</td>\n",
              "      <td>171.23</td>\n",
              "      <td>34.4</td>\n",
              "      <td>smokes</td>\n",
              "      <td>1</td>\n",
              "    </tr>\n",
              "    <tr>\n",
              "      <th>4</th>\n",
              "      <td>1665</td>\n",
              "      <td>Female</td>\n",
              "      <td>79.0</td>\n",
              "      <td>1</td>\n",
              "      <td>0</td>\n",
              "      <td>Yes</td>\n",
              "      <td>Self-employed</td>\n",
              "      <td>Rural</td>\n",
              "      <td>174.12</td>\n",
              "      <td>24.0</td>\n",
              "      <td>never smoked</td>\n",
              "      <td>1</td>\n",
              "    </tr>\n",
              "  </tbody>\n",
              "</table>\n",
              "</div>"
            ],
            "text/plain": [
              "      id  gender   age  ...   bmi   smoking_status stroke\n",
              "0   9046    Male  67.0  ...  36.6  formerly smoked      1\n",
              "1  51676  Female  61.0  ...   NaN     never smoked      1\n",
              "2  31112    Male  80.0  ...  32.5     never smoked      1\n",
              "3  60182  Female  49.0  ...  34.4           smokes      1\n",
              "4   1665  Female  79.0  ...  24.0     never smoked      1\n",
              "\n",
              "[5 rows x 12 columns]"
            ]
          },
          "metadata": {
            "tags": []
          },
          "execution_count": 17
        }
      ]
    },
    {
      "cell_type": "code",
      "metadata": {
        "colab": {
          "base_uri": "https://localhost:8080/"
        },
        "id": "mxqPz_uaLmrR",
        "outputId": "789a5fcd-9196-4e43-8bf4-e1dca0664e9e"
      },
      "source": [
        "data.isnull().sum()"
      ],
      "execution_count": null,
      "outputs": [
        {
          "output_type": "execute_result",
          "data": {
            "text/plain": [
              "id                     0\n",
              "gender                 0\n",
              "age                    0\n",
              "hypertension           0\n",
              "heart_disease          0\n",
              "ever_married           0\n",
              "work_type              0\n",
              "Residence_type         0\n",
              "avg_glucose_level      0\n",
              "bmi                  201\n",
              "smoking_status         0\n",
              "stroke                 0\n",
              "dtype: int64"
            ]
          },
          "metadata": {
            "tags": []
          },
          "execution_count": 18
        }
      ]
    },
    {
      "cell_type": "code",
      "metadata": {
        "id": "KB2hTVvwMvgW"
      },
      "source": [
        "bmi_std = data[\"bmi\"].std()\n",
        "bmi_mean = data[\"bmi\"].mean()"
      ],
      "execution_count": null,
      "outputs": []
    },
    {
      "cell_type": "code",
      "metadata": {
        "id": "7H3PZf-_nMNO"
      },
      "source": [
        "null_bmi = data[data[\"bmi\"].isnull()][\"bmi\"]\n",
        "null_bmi_number = data[\"bmi\"].isnull().sum()"
      ],
      "execution_count": null,
      "outputs": []
    },
    {
      "cell_type": "code",
      "metadata": {
        "id": "VpuGWMmVnekg"
      },
      "source": [
        "random_bmi = np.random.randint(low=bmi_mean - bmi_std, high=bmi_mean + bmi_std, size = null_bmi_number)"
      ],
      "execution_count": null,
      "outputs": []
    },
    {
      "cell_type": "code",
      "metadata": {
        "colab": {
          "base_uri": "https://localhost:8080/"
        },
        "id": "Z8Smd665oWap",
        "outputId": "e66f4001-146a-4fa6-8c4a-3ef85ae52737"
      },
      "source": [
        "data[\"bmi\"][data[\"bmi\"].isnull()] = random_bmi"
      ],
      "execution_count": null,
      "outputs": [
        {
          "output_type": "stream",
          "text": [
            "/usr/local/lib/python3.7/dist-packages/ipykernel_launcher.py:1: SettingWithCopyWarning: \n",
            "A value is trying to be set on a copy of a slice from a DataFrame\n",
            "\n",
            "See the caveats in the documentation: https://pandas.pydata.org/pandas-docs/stable/user_guide/indexing.html#returning-a-view-versus-a-copy\n",
            "  \"\"\"Entry point for launching an IPython kernel.\n"
          ],
          "name": "stderr"
        }
      ]
    },
    {
      "cell_type": "code",
      "metadata": {
        "colab": {
          "base_uri": "https://localhost:8080/"
        },
        "id": "7rvMltPsoYCg",
        "outputId": "eb910aee-5c32-4485-d0ee-52de94f04e01"
      },
      "source": [
        "data.isnull().sum()"
      ],
      "execution_count": null,
      "outputs": [
        {
          "output_type": "execute_result",
          "data": {
            "text/plain": [
              "id                   0\n",
              "gender               0\n",
              "age                  0\n",
              "hypertension         0\n",
              "heart_disease        0\n",
              "ever_married         0\n",
              "work_type            0\n",
              "Residence_type       0\n",
              "avg_glucose_level    0\n",
              "bmi                  0\n",
              "smoking_status       0\n",
              "stroke               0\n",
              "dtype: int64"
            ]
          },
          "metadata": {
            "tags": []
          },
          "execution_count": 23
        }
      ]
    },
    {
      "cell_type": "code",
      "metadata": {
        "id": "gEyIlzeU14xJ"
      },
      "source": [
        "data = data.drop(\"id\", axis = 1)"
      ],
      "execution_count": null,
      "outputs": []
    },
    {
      "cell_type": "code",
      "metadata": {
        "colab": {
          "base_uri": "https://localhost:8080/"
        },
        "id": "9rSSicVSpPim",
        "outputId": "0442df89-e2b5-4be8-d2da-45987de02101"
      },
      "source": [
        "data.info()"
      ],
      "execution_count": null,
      "outputs": [
        {
          "output_type": "stream",
          "text": [
            "<class 'pandas.core.frame.DataFrame'>\n",
            "RangeIndex: 5110 entries, 0 to 5109\n",
            "Data columns (total 11 columns):\n",
            " #   Column             Non-Null Count  Dtype  \n",
            "---  ------             --------------  -----  \n",
            " 0   gender             5110 non-null   object \n",
            " 1   age                5110 non-null   float64\n",
            " 2   hypertension       5110 non-null   int64  \n",
            " 3   heart_disease      5110 non-null   int64  \n",
            " 4   ever_married       5110 non-null   object \n",
            " 5   work_type          5110 non-null   object \n",
            " 6   Residence_type     5110 non-null   object \n",
            " 7   avg_glucose_level  5110 non-null   float64\n",
            " 8   bmi                5110 non-null   float64\n",
            " 9   smoking_status     5110 non-null   object \n",
            " 10  stroke             5110 non-null   int64  \n",
            "dtypes: float64(3), int64(3), object(5)\n",
            "memory usage: 439.3+ KB\n"
          ],
          "name": "stdout"
        }
      ]
    },
    {
      "cell_type": "code",
      "metadata": {
        "colab": {
          "base_uri": "https://localhost:8080/"
        },
        "id": "VoNxsbhx-UQs",
        "outputId": "f75e1684-f8d0-4787-cbd7-27f75c7fbf65"
      },
      "source": [
        "from imblearn.over_sampling import SMOTENC\n",
        "smote = SMOTENC(random_state = 42, categorical_features=[0, 4, 5, 6, 9])\n",
        "X = data.drop(\"stroke\", axis =1)\n",
        "X_col = X.columns\n",
        "y = data[\"stroke\"]\n",
        "X, y = smote.fit_resample(X, y)\n",
        "X = pd.DataFrame(X, columns=X_col)"
      ],
      "execution_count": null,
      "outputs": [
        {
          "output_type": "stream",
          "text": [
            "/usr/local/lib/python3.7/dist-packages/sklearn/externals/six.py:31: FutureWarning: The module is deprecated in version 0.21 and will be removed in version 0.23 since we've dropped support for Python 2.7. Please rely on the official version of six (https://pypi.org/project/six/).\n",
            "  \"(https://pypi.org/project/six/).\", FutureWarning)\n",
            "/usr/local/lib/python3.7/dist-packages/sklearn/utils/deprecation.py:144: FutureWarning: The sklearn.neighbors.base module is  deprecated in version 0.22 and will be removed in version 0.24. The corresponding classes / functions should instead be imported from sklearn.neighbors. Anything that cannot be imported from sklearn.neighbors is now part of the private API.\n",
            "  warnings.warn(message, FutureWarning)\n",
            "/usr/local/lib/python3.7/dist-packages/sklearn/utils/deprecation.py:87: FutureWarning: Function safe_indexing is deprecated; safe_indexing is deprecated in version 0.22 and will be removed in version 0.24.\n",
            "  warnings.warn(msg, category=FutureWarning)\n",
            "/usr/local/lib/python3.7/dist-packages/sklearn/utils/deprecation.py:87: FutureWarning: Function safe_indexing is deprecated; safe_indexing is deprecated in version 0.22 and will be removed in version 0.24.\n",
            "  warnings.warn(msg, category=FutureWarning)\n"
          ],
          "name": "stderr"
        }
      ]
    },
    {
      "cell_type": "code",
      "metadata": {
        "id": "1a58tij77MQF"
      },
      "source": [
        "data[\"age\"] = data[\"age\"].astype(int)\n",
        "data[\"avg_glucose_level\"] = data[\"avg_glucose_level\"].astype(int)\n",
        "data[\"bmi\"] = data[\"bmi\"].astype(int)"
      ],
      "execution_count": null,
      "outputs": []
    },
    {
      "cell_type": "code",
      "metadata": {
        "id": "FjO25aqJnOjm"
      },
      "source": [
        "X[\"age\"] = X[\"age\"].astype(int)"
      ],
      "execution_count": null,
      "outputs": []
    },
    {
      "cell_type": "code",
      "metadata": {
        "id": "0M1s_DqVpZwM"
      },
      "source": [
        "from sklearn.preprocessing import OneHotEncoder, StandardScaler\n",
        "from keras.utils import to_categorical\n",
        "ohe = OneHotEncoder(sparse=False)"
      ],
      "execution_count": null,
      "outputs": []
    },
    {
      "cell_type": "code",
      "metadata": {
        "id": "eerZQgNYtHBQ"
      },
      "source": [
        "from sklearn.compose import make_column_transformer"
      ],
      "execution_count": null,
      "outputs": []
    },
    {
      "cell_type": "code",
      "metadata": {
        "id": "g6sopl4xtJvV"
      },
      "source": [
        "column_trans = make_column_transformer(\n",
        "    (OneHotEncoder(), [\"gender\", \"ever_married\", \"work_type\", \"Residence_type\", \"smoking_status\"]), \n",
        "    (StandardScaler(), [\"age\", \"avg_glucose_level\", \"bmi\"])\n",
        ")"
      ],
      "execution_count": null,
      "outputs": []
    },
    {
      "cell_type": "code",
      "metadata": {
        "id": "oDiIyRZ0t91F"
      },
      "source": [
        "X = column_trans.fit_transform(X)"
      ],
      "execution_count": null,
      "outputs": []
    },
    {
      "cell_type": "code",
      "metadata": {
        "id": "BlmlNB4Wy0NN"
      },
      "source": [
        "from sklearn.model_selection import train_test_split, KFold, cross_validate"
      ],
      "execution_count": null,
      "outputs": []
    },
    {
      "cell_type": "code",
      "metadata": {
        "id": "m8LAhCg5qyn6"
      },
      "source": [
        "X_train, X_test, y_train, y_test = train_test_split(X, y, test_size = 1/3, random_state = 42)"
      ],
      "execution_count": null,
      "outputs": []
    },
    {
      "cell_type": "code",
      "metadata": {
        "id": "J_pvMi3qqHCe"
      },
      "source": [
        "from sklearn.pipeline import Pipeline\n",
        "from sklearn.preprocessing import PolynomialFeatures\n",
        "from sklearn.linear_model import LogisticRegression"
      ],
      "execution_count": null,
      "outputs": []
    },
    {
      "cell_type": "code",
      "metadata": {
        "id": "15kwXk2QzPQw"
      },
      "source": [
        "kf = KFold(4, shuffle=True, random_state=42)"
      ],
      "execution_count": null,
      "outputs": []
    },
    {
      "cell_type": "code",
      "metadata": {
        "id": "BvxRPsOUr9pb"
      },
      "source": [
        "model = Pipeline([\n",
        "                  (\"poly\", PolynomialFeatures(degree = 2, include_bias=False)), \n",
        "                  (\"logreg\", LogisticRegression())\n",
        "])"
      ],
      "execution_count": null,
      "outputs": []
    },
    {
      "cell_type": "code",
      "metadata": {
        "colab": {
          "base_uri": "https://localhost:8080/"
        },
        "id": "vvvUF5zZzUDR",
        "outputId": "d09b5ed9-171a-43bd-b207-f32e79cd4cb9"
      },
      "source": [
        "model = cross_validate(model, X_train, y_train, cv = kf)"
      ],
      "execution_count": null,
      "outputs": [
        {
          "output_type": "stream",
          "text": [
            "/usr/local/lib/python3.7/dist-packages/sklearn/linear_model/_logistic.py:940: ConvergenceWarning: lbfgs failed to converge (status=1):\n",
            "STOP: TOTAL NO. of ITERATIONS REACHED LIMIT.\n",
            "\n",
            "Increase the number of iterations (max_iter) or scale the data as shown in:\n",
            "    https://scikit-learn.org/stable/modules/preprocessing.html\n",
            "Please also refer to the documentation for alternative solver options:\n",
            "    https://scikit-learn.org/stable/modules/linear_model.html#logistic-regression\n",
            "  extra_warning_msg=_LOGISTIC_SOLVER_CONVERGENCE_MSG)\n",
            "/usr/local/lib/python3.7/dist-packages/sklearn/linear_model/_logistic.py:940: ConvergenceWarning: lbfgs failed to converge (status=1):\n",
            "STOP: TOTAL NO. of ITERATIONS REACHED LIMIT.\n",
            "\n",
            "Increase the number of iterations (max_iter) or scale the data as shown in:\n",
            "    https://scikit-learn.org/stable/modules/preprocessing.html\n",
            "Please also refer to the documentation for alternative solver options:\n",
            "    https://scikit-learn.org/stable/modules/linear_model.html#logistic-regression\n",
            "  extra_warning_msg=_LOGISTIC_SOLVER_CONVERGENCE_MSG)\n",
            "/usr/local/lib/python3.7/dist-packages/sklearn/linear_model/_logistic.py:940: ConvergenceWarning: lbfgs failed to converge (status=1):\n",
            "STOP: TOTAL NO. of ITERATIONS REACHED LIMIT.\n",
            "\n",
            "Increase the number of iterations (max_iter) or scale the data as shown in:\n",
            "    https://scikit-learn.org/stable/modules/preprocessing.html\n",
            "Please also refer to the documentation for alternative solver options:\n",
            "    https://scikit-learn.org/stable/modules/linear_model.html#logistic-regression\n",
            "  extra_warning_msg=_LOGISTIC_SOLVER_CONVERGENCE_MSG)\n",
            "/usr/local/lib/python3.7/dist-packages/sklearn/linear_model/_logistic.py:940: ConvergenceWarning: lbfgs failed to converge (status=1):\n",
            "STOP: TOTAL NO. of ITERATIONS REACHED LIMIT.\n",
            "\n",
            "Increase the number of iterations (max_iter) or scale the data as shown in:\n",
            "    https://scikit-learn.org/stable/modules/preprocessing.html\n",
            "Please also refer to the documentation for alternative solver options:\n",
            "    https://scikit-learn.org/stable/modules/linear_model.html#logistic-regression\n",
            "  extra_warning_msg=_LOGISTIC_SOLVER_CONVERGENCE_MSG)\n"
          ],
          "name": "stderr"
        }
      ]
    },
    {
      "cell_type": "code",
      "metadata": {
        "colab": {
          "base_uri": "https://localhost:8080/"
        },
        "id": "57-tG3ZusSED",
        "outputId": "ccff82a8-e40c-4e41-9b13-c0e30b4c5c1e"
      },
      "source": [
        "model[\"test_score\"].mean()"
      ],
      "execution_count": null,
      "outputs": [
        {
          "output_type": "execute_result",
          "data": {
            "text/plain": [
              "0.8163879178376403"
            ]
          },
          "metadata": {
            "tags": []
          },
          "execution_count": 39
        }
      ]
    },
    {
      "cell_type": "code",
      "metadata": {
        "id": "iKDrNIK20R63"
      },
      "source": [
        "from tensorflow.keras.models import Sequential\n",
        "from tensorflow.keras.layers import Dense, Flatten"
      ],
      "execution_count": null,
      "outputs": []
    },
    {
      "cell_type": "code",
      "metadata": {
        "id": "82CaJ8al0__v"
      },
      "source": [
        "yc_train = to_categorical(y_train)\n",
        "yc_test = to_categorical(y_test)"
      ],
      "execution_count": null,
      "outputs": []
    },
    {
      "cell_type": "code",
      "metadata": {
        "id": "3fPVQwyQ2_EE"
      },
      "source": [
        "model = Sequential([\n",
        "  Dense(32, activation = \"relu\", input_dim = X.shape[1]),\n",
        "  Dense(2, activation=\"softmax\")\n",
        "])"
      ],
      "execution_count": null,
      "outputs": []
    },
    {
      "cell_type": "code",
      "metadata": {
        "id": "rX2_5cgw3IwW"
      },
      "source": [
        "model.compile(optimizer=\"adam\", \n",
        "              loss=\"categorical_crossentropy\", \n",
        "              metrics = [\"accuracy\"]\n",
        ")"
      ],
      "execution_count": null,
      "outputs": []
    },
    {
      "cell_type": "code",
      "metadata": {
        "colab": {
          "base_uri": "https://localhost:8080/"
        },
        "id": "g31g_whn3T_J",
        "outputId": "f9a1cb5c-08ea-4f16-9155-3925196d12dd"
      },
      "source": [
        "model.fit(X_train, yc_train, batch_size=10, epochs=100)"
      ],
      "execution_count": null,
      "outputs": [
        {
          "output_type": "stream",
          "text": [
            "Epoch 1/100\n",
            "649/649 [==============================] - 1s 1ms/step - loss: 0.5384 - accuracy: 0.7142\n",
            "Epoch 2/100\n",
            "649/649 [==============================] - 1s 1ms/step - loss: 0.3995 - accuracy: 0.8072\n",
            "Epoch 3/100\n",
            "649/649 [==============================] - 1s 1ms/step - loss: 0.4045 - accuracy: 0.8069\n",
            "Epoch 4/100\n",
            "649/649 [==============================] - 1s 1ms/step - loss: 0.3871 - accuracy: 0.8249\n",
            "Epoch 5/100\n",
            "649/649 [==============================] - 1s 1ms/step - loss: 0.3692 - accuracy: 0.8365\n",
            "Epoch 6/100\n",
            "649/649 [==============================] - 1s 1ms/step - loss: 0.3629 - accuracy: 0.8419\n",
            "Epoch 7/100\n",
            "649/649 [==============================] - 1s 1ms/step - loss: 0.3687 - accuracy: 0.8383\n",
            "Epoch 8/100\n",
            "649/649 [==============================] - 1s 1ms/step - loss: 0.3630 - accuracy: 0.8402\n",
            "Epoch 9/100\n",
            "649/649 [==============================] - 1s 1ms/step - loss: 0.3502 - accuracy: 0.8541\n",
            "Epoch 10/100\n",
            "649/649 [==============================] - 1s 1ms/step - loss: 0.3478 - accuracy: 0.8518\n",
            "Epoch 11/100\n",
            "649/649 [==============================] - 1s 1ms/step - loss: 0.3379 - accuracy: 0.8571\n",
            "Epoch 12/100\n",
            "649/649 [==============================] - 1s 1ms/step - loss: 0.3390 - accuracy: 0.8617\n",
            "Epoch 13/100\n",
            "649/649 [==============================] - 1s 1ms/step - loss: 0.3253 - accuracy: 0.8651\n",
            "Epoch 14/100\n",
            "649/649 [==============================] - 1s 1ms/step - loss: 0.3358 - accuracy: 0.8610\n",
            "Epoch 15/100\n",
            "649/649 [==============================] - 1s 1ms/step - loss: 0.3180 - accuracy: 0.8693\n",
            "Epoch 16/100\n",
            "649/649 [==============================] - 1s 1ms/step - loss: 0.3226 - accuracy: 0.8679\n",
            "Epoch 17/100\n",
            "649/649 [==============================] - 1s 1ms/step - loss: 0.3237 - accuracy: 0.8666\n",
            "Epoch 18/100\n",
            "649/649 [==============================] - 1s 1ms/step - loss: 0.3209 - accuracy: 0.8631\n",
            "Epoch 19/100\n",
            "649/649 [==============================] - 1s 1ms/step - loss: 0.3292 - accuracy: 0.8604\n",
            "Epoch 20/100\n",
            "649/649 [==============================] - 1s 1ms/step - loss: 0.3121 - accuracy: 0.8707\n",
            "Epoch 21/100\n",
            "649/649 [==============================] - 1s 1ms/step - loss: 0.3040 - accuracy: 0.8770\n",
            "Epoch 22/100\n",
            "649/649 [==============================] - 1s 1ms/step - loss: 0.2986 - accuracy: 0.8769\n",
            "Epoch 23/100\n",
            "649/649 [==============================] - 1s 1ms/step - loss: 0.3145 - accuracy: 0.8770\n",
            "Epoch 24/100\n",
            "649/649 [==============================] - 1s 1ms/step - loss: 0.3124 - accuracy: 0.8745\n",
            "Epoch 25/100\n",
            "649/649 [==============================] - 1s 1ms/step - loss: 0.2902 - accuracy: 0.8810\n",
            "Epoch 26/100\n",
            "649/649 [==============================] - 1s 1ms/step - loss: 0.2892 - accuracy: 0.8847\n",
            "Epoch 27/100\n",
            "649/649 [==============================] - 1s 1ms/step - loss: 0.2998 - accuracy: 0.8825\n",
            "Epoch 28/100\n",
            "649/649 [==============================] - 1s 1ms/step - loss: 0.2920 - accuracy: 0.8786\n",
            "Epoch 29/100\n",
            "649/649 [==============================] - 1s 1ms/step - loss: 0.2857 - accuracy: 0.8907\n",
            "Epoch 30/100\n",
            "649/649 [==============================] - 1s 1ms/step - loss: 0.2819 - accuracy: 0.8957\n",
            "Epoch 31/100\n",
            "649/649 [==============================] - 1s 1ms/step - loss: 0.2955 - accuracy: 0.8828\n",
            "Epoch 32/100\n",
            "649/649 [==============================] - 1s 1ms/step - loss: 0.2940 - accuracy: 0.8867\n",
            "Epoch 33/100\n",
            "649/649 [==============================] - 1s 1ms/step - loss: 0.2803 - accuracy: 0.8910\n",
            "Epoch 34/100\n",
            "649/649 [==============================] - 1s 1ms/step - loss: 0.2870 - accuracy: 0.8880\n",
            "Epoch 35/100\n",
            "649/649 [==============================] - 1s 1ms/step - loss: 0.2869 - accuracy: 0.8886\n",
            "Epoch 36/100\n",
            "649/649 [==============================] - 1s 1ms/step - loss: 0.2867 - accuracy: 0.8896\n",
            "Epoch 37/100\n",
            "649/649 [==============================] - 1s 1ms/step - loss: 0.2853 - accuracy: 0.8867\n",
            "Epoch 38/100\n",
            "649/649 [==============================] - 1s 1ms/step - loss: 0.2814 - accuracy: 0.8952\n",
            "Epoch 39/100\n",
            "649/649 [==============================] - 1s 1ms/step - loss: 0.2727 - accuracy: 0.8967\n",
            "Epoch 40/100\n",
            "649/649 [==============================] - 1s 1ms/step - loss: 0.2879 - accuracy: 0.8877\n",
            "Epoch 41/100\n",
            "649/649 [==============================] - 1s 1ms/step - loss: 0.2747 - accuracy: 0.8972\n",
            "Epoch 42/100\n",
            "649/649 [==============================] - 1s 1ms/step - loss: 0.2775 - accuracy: 0.8947\n",
            "Epoch 43/100\n",
            "649/649 [==============================] - 1s 1ms/step - loss: 0.2717 - accuracy: 0.8963\n",
            "Epoch 44/100\n",
            "649/649 [==============================] - 1s 1ms/step - loss: 0.2749 - accuracy: 0.8939\n",
            "Epoch 45/100\n",
            "649/649 [==============================] - 1s 1ms/step - loss: 0.2679 - accuracy: 0.8892\n",
            "Epoch 46/100\n",
            "649/649 [==============================] - 1s 1ms/step - loss: 0.2819 - accuracy: 0.8917\n",
            "Epoch 47/100\n",
            "649/649 [==============================] - 1s 1ms/step - loss: 0.2675 - accuracy: 0.8962\n",
            "Epoch 48/100\n",
            "649/649 [==============================] - 1s 1ms/step - loss: 0.2750 - accuracy: 0.8974\n",
            "Epoch 49/100\n",
            "649/649 [==============================] - 1s 1ms/step - loss: 0.2726 - accuracy: 0.8942\n",
            "Epoch 50/100\n",
            "649/649 [==============================] - 1s 1ms/step - loss: 0.2756 - accuracy: 0.8921\n",
            "Epoch 51/100\n",
            "649/649 [==============================] - 1s 1ms/step - loss: 0.2568 - accuracy: 0.9042\n",
            "Epoch 52/100\n",
            "649/649 [==============================] - 1s 1ms/step - loss: 0.2589 - accuracy: 0.9034\n",
            "Epoch 53/100\n",
            "649/649 [==============================] - 1s 1ms/step - loss: 0.2656 - accuracy: 0.8996\n",
            "Epoch 54/100\n",
            "649/649 [==============================] - 1s 1ms/step - loss: 0.2628 - accuracy: 0.8985\n",
            "Epoch 55/100\n",
            "649/649 [==============================] - 1s 1ms/step - loss: 0.2556 - accuracy: 0.9060\n",
            "Epoch 56/100\n",
            "649/649 [==============================] - 1s 1ms/step - loss: 0.2758 - accuracy: 0.8962\n",
            "Epoch 57/100\n",
            "649/649 [==============================] - 1s 1ms/step - loss: 0.2607 - accuracy: 0.8987\n",
            "Epoch 58/100\n",
            "649/649 [==============================] - 1s 1ms/step - loss: 0.2461 - accuracy: 0.9061\n",
            "Epoch 59/100\n",
            "649/649 [==============================] - 1s 1ms/step - loss: 0.2592 - accuracy: 0.8978\n",
            "Epoch 60/100\n",
            "649/649 [==============================] - 1s 1ms/step - loss: 0.2672 - accuracy: 0.8955\n",
            "Epoch 61/100\n",
            "649/649 [==============================] - 1s 1ms/step - loss: 0.2589 - accuracy: 0.9010\n",
            "Epoch 62/100\n",
            "649/649 [==============================] - 1s 1ms/step - loss: 0.2654 - accuracy: 0.8947\n",
            "Epoch 63/100\n",
            "649/649 [==============================] - 1s 1ms/step - loss: 0.2556 - accuracy: 0.9012\n",
            "Epoch 64/100\n",
            "649/649 [==============================] - 1s 1ms/step - loss: 0.2509 - accuracy: 0.9055\n",
            "Epoch 65/100\n",
            "649/649 [==============================] - 1s 1ms/step - loss: 0.2696 - accuracy: 0.8993\n",
            "Epoch 66/100\n",
            "649/649 [==============================] - 1s 1ms/step - loss: 0.2561 - accuracy: 0.9063\n",
            "Epoch 67/100\n",
            "649/649 [==============================] - 1s 1ms/step - loss: 0.2524 - accuracy: 0.9029\n",
            "Epoch 68/100\n",
            "649/649 [==============================] - 1s 1ms/step - loss: 0.2675 - accuracy: 0.8991\n",
            "Epoch 69/100\n",
            "649/649 [==============================] - 1s 1ms/step - loss: 0.2566 - accuracy: 0.9014\n",
            "Epoch 70/100\n",
            "649/649 [==============================] - 1s 1ms/step - loss: 0.2470 - accuracy: 0.9076\n",
            "Epoch 71/100\n",
            "649/649 [==============================] - 1s 1ms/step - loss: 0.2657 - accuracy: 0.8947\n",
            "Epoch 72/100\n",
            "649/649 [==============================] - 1s 1ms/step - loss: 0.2481 - accuracy: 0.9001\n",
            "Epoch 73/100\n",
            "649/649 [==============================] - 1s 1ms/step - loss: 0.2493 - accuracy: 0.9046\n",
            "Epoch 74/100\n",
            "649/649 [==============================] - 1s 1ms/step - loss: 0.2526 - accuracy: 0.9004\n",
            "Epoch 75/100\n",
            "649/649 [==============================] - 1s 1ms/step - loss: 0.2447 - accuracy: 0.9074\n",
            "Epoch 76/100\n",
            "649/649 [==============================] - 1s 1ms/step - loss: 0.2669 - accuracy: 0.8960\n",
            "Epoch 77/100\n",
            "649/649 [==============================] - 1s 1ms/step - loss: 0.2508 - accuracy: 0.9020\n",
            "Epoch 78/100\n",
            "649/649 [==============================] - 1s 1ms/step - loss: 0.2540 - accuracy: 0.9055\n",
            "Epoch 79/100\n",
            "649/649 [==============================] - 1s 1ms/step - loss: 0.2596 - accuracy: 0.9033\n",
            "Epoch 80/100\n",
            "649/649 [==============================] - 1s 1ms/step - loss: 0.2438 - accuracy: 0.9071\n",
            "Epoch 81/100\n",
            "649/649 [==============================] - 1s 1ms/step - loss: 0.2612 - accuracy: 0.9013\n",
            "Epoch 82/100\n",
            "649/649 [==============================] - 1s 1ms/step - loss: 0.2485 - accuracy: 0.9043\n",
            "Epoch 83/100\n",
            "649/649 [==============================] - 1s 1ms/step - loss: 0.2452 - accuracy: 0.9091\n",
            "Epoch 84/100\n",
            "649/649 [==============================] - 1s 1ms/step - loss: 0.2572 - accuracy: 0.9004\n",
            "Epoch 85/100\n",
            "649/649 [==============================] - 1s 1ms/step - loss: 0.2548 - accuracy: 0.9001\n",
            "Epoch 86/100\n",
            "649/649 [==============================] - 1s 1ms/step - loss: 0.2626 - accuracy: 0.9002\n",
            "Epoch 87/100\n",
            "649/649 [==============================] - 1s 1ms/step - loss: 0.2669 - accuracy: 0.8974\n",
            "Epoch 88/100\n",
            "649/649 [==============================] - 1s 1ms/step - loss: 0.2430 - accuracy: 0.9099\n",
            "Epoch 89/100\n",
            "649/649 [==============================] - 1s 1ms/step - loss: 0.2645 - accuracy: 0.8954\n",
            "Epoch 90/100\n",
            "649/649 [==============================] - 1s 1ms/step - loss: 0.2566 - accuracy: 0.9031\n",
            "Epoch 91/100\n",
            "649/649 [==============================] - 1s 1ms/step - loss: 0.2522 - accuracy: 0.9019\n",
            "Epoch 92/100\n",
            "649/649 [==============================] - 1s 1ms/step - loss: 0.2415 - accuracy: 0.9100\n",
            "Epoch 93/100\n",
            "649/649 [==============================] - 1s 1ms/step - loss: 0.2423 - accuracy: 0.9048\n",
            "Epoch 94/100\n",
            "649/649 [==============================] - 1s 1ms/step - loss: 0.2466 - accuracy: 0.9052\n",
            "Epoch 95/100\n",
            "649/649 [==============================] - 1s 1ms/step - loss: 0.2403 - accuracy: 0.9057\n",
            "Epoch 96/100\n",
            "649/649 [==============================] - 1s 1ms/step - loss: 0.2449 - accuracy: 0.9096\n",
            "Epoch 97/100\n",
            "649/649 [==============================] - 1s 1ms/step - loss: 0.2400 - accuracy: 0.9121\n",
            "Epoch 98/100\n",
            "649/649 [==============================] - 1s 1ms/step - loss: 0.2356 - accuracy: 0.9125\n",
            "Epoch 99/100\n",
            "649/649 [==============================] - 1s 1ms/step - loss: 0.2403 - accuracy: 0.9104\n",
            "Epoch 100/100\n",
            "649/649 [==============================] - 1s 1ms/step - loss: 0.2288 - accuracy: 0.9139\n"
          ],
          "name": "stdout"
        },
        {
          "output_type": "execute_result",
          "data": {
            "text/plain": [
              "<tensorflow.python.keras.callbacks.History at 0x7fc2ad777650>"
            ]
          },
          "metadata": {
            "tags": []
          },
          "execution_count": 44
        }
      ]
    },
    {
      "cell_type": "code",
      "metadata": {
        "colab": {
          "base_uri": "https://localhost:8080/"
        },
        "id": "O4F42aKU3eDt",
        "outputId": "5bd04806-a7b8-4122-ac3b-a4b229537953"
      },
      "source": [
        "model.evaluate(X_test, yc_test, batch_size=20)"
      ],
      "execution_count": null,
      "outputs": [
        {
          "output_type": "stream",
          "text": [
            "163/163 [==============================] - 0s 894us/step - loss: 0.3130 - accuracy: 0.8821\n"
          ],
          "name": "stdout"
        },
        {
          "output_type": "execute_result",
          "data": {
            "text/plain": [
              "[0.31296780705451965, 0.8821351528167725]"
            ]
          },
          "metadata": {
            "tags": []
          },
          "execution_count": 45
        }
      ]
    },
    {
      "cell_type": "code",
      "metadata": {
        "id": "ci5Ie5t931BG"
      },
      "source": [
        "from sklearn.ensemble import RandomForestClassifier"
      ],
      "execution_count": null,
      "outputs": []
    },
    {
      "cell_type": "code",
      "metadata": {
        "id": "1D4dR6PYu_Rx"
      },
      "source": [
        "rf_model = RandomForestClassifier(n_estimators=100)"
      ],
      "execution_count": null,
      "outputs": []
    },
    {
      "cell_type": "code",
      "metadata": {
        "colab": {
          "base_uri": "https://localhost:8080/"
        },
        "id": "jpcwcLe7vHKb",
        "outputId": "1101bef6-3eac-439a-fb96-f5a6908e11b3"
      },
      "source": [
        "rf_model.fit(X_train, y_train)"
      ],
      "execution_count": null,
      "outputs": [
        {
          "output_type": "execute_result",
          "data": {
            "text/plain": [
              "RandomForestClassifier(bootstrap=True, ccp_alpha=0.0, class_weight=None,\n",
              "                       criterion='gini', max_depth=None, max_features='auto',\n",
              "                       max_leaf_nodes=None, max_samples=None,\n",
              "                       min_impurity_decrease=0.0, min_impurity_split=None,\n",
              "                       min_samples_leaf=1, min_samples_split=2,\n",
              "                       min_weight_fraction_leaf=0.0, n_estimators=100,\n",
              "                       n_jobs=None, oob_score=False, random_state=None,\n",
              "                       verbose=0, warm_start=False)"
            ]
          },
          "metadata": {
            "tags": []
          },
          "execution_count": 48
        }
      ]
    },
    {
      "cell_type": "code",
      "metadata": {
        "colab": {
          "base_uri": "https://localhost:8080/"
        },
        "id": "vgAnC-0KvLD3",
        "outputId": "46598145-08f2-4d94-c794-5bb29de16a87"
      },
      "source": [
        "rf_model.score(X_test, y_test)"
      ],
      "execution_count": null,
      "outputs": [
        {
          "output_type": "execute_result",
          "data": {
            "text/plain": [
              "0.9385991977784635"
            ]
          },
          "metadata": {
            "tags": []
          },
          "execution_count": 52
        }
      ]
    },
    {
      "cell_type": "code",
      "metadata": {
        "id": "_9tQ0_isvPbd"
      },
      "source": [
        ""
      ],
      "execution_count": null,
      "outputs": []
    }
  ]
}